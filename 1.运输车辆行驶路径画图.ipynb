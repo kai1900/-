{
 "cells": [
  {
   "cell_type": "code",
   "execution_count": 11,
   "metadata": {},
   "outputs": [
    {
     "name": "stdout",
     "output_type": "stream",
     "text": [
      "['car\\\\AA00002.csv', 'car\\\\AB00006.csv', 'car\\\\AD00003.csv', 'car\\\\AD00013.csv', 'car\\\\AD00053.csv', 'car\\\\AD00083.csv', 'car\\\\AD00419.csv', 'car\\\\AF00098.csv', 'car\\\\AF00131.csv', 'car\\\\AF00373.csv']\n"
     ]
    }
   ],
   "source": [
    "import numpy as np                \n",
    "import pandas as pd\n",
    "import os\n",
    "\n",
    "def file_name( user_dir):\n",
    "        file_list = list()\n",
    "        for root, dirs, files in os.walk(user_dir):\n",
    "            for file in files:\n",
    "                # if os.path.splitext(file)[1] == '.txt':\n",
    "                if file.split('.')[-1]=='csv':\n",
    "                    file_list.append(os.path.join(root, file))\n",
    "        return file_list\n",
    "\n",
    "path=\"car\"     #此处的路径为存放excel的根目录\n",
    "csv=file_name(path)         #得到一个列表，里面为10个excel的存放地址\n",
    "print(csv)"
   ]
  },
  {
   "cell_type": "code",
   "execution_count": 12,
   "metadata": {},
   "outputs": [],
   "source": [
    "import seaborn as sns\n",
    "import folium\n",
    "import webbrowser\n",
    "from folium.plugins import HeatMap\n",
    "\n",
    "for i in range(len(csv)):\n",
    "    posi=pd.read_csv(csv[i])\n",
    "    basename=os.path.basename(csv[i])                     \n",
    "    #basename()用于去掉目录的路径，只返回文件名,加后缀\n",
    "    name=os.path.splitext(basename)[0]+\".html\"      \n",
    "    #splitext()用于返回文件名和扩展名元组.如os.path.splitext('book.txt')('book', '.txt')\n",
    "\n",
    "    lat = np.array(posi[\"lat\"])                        # 获取维度值\n",
    "    lon = np.array(posi[\"lng\"])                       # 获取经度值\n",
    "    pop = np.array(posi[\"gps_speed\"])                # 获取速度\n",
    "\n",
    "    data1 = [[lat[i],lon[i]] for i in range(len(lat))]    \n",
    "    #将数据制作成[lats,lons]的形式\n",
    "\n",
    "    m = folium.Map([ 33., 113.], tiles='stamentoner', zoom_start=5)     \n",
    "    #创建一张指定中心坐标的地图;  zoom_start表示初始地图的缩放尺寸;    tiles：str型，用于控制绘图调用的地图样式\n",
    "\n",
    "    route = folium.PolyLine(    #polyline方法为将坐标用线段形式连接起来\n",
    "        data1,    #将坐标点连接起来\n",
    "        weight=3,  #线的大小为3\n",
    "        color='orange',  #线的颜色为橙色\n",
    "       opacity=0.8    #线的透明度\n",
    "    ).add_to(m)    #将这条线添加到刚才的区域m内\n",
    "\n",
    "#    HeatMap(data1).add_to(m)\n",
    "\n",
    "    m.save(os.path.join(r'car/non_heatmap',name))     # 'AA000002.html'"
   ]
  },
  {
   "cell_type": "code",
   "execution_count": null,
   "metadata": {},
   "outputs": [],
   "source": []
  }
 ],
 "metadata": {
  "kernelspec": {
   "display_name": "Python 3",
   "language": "python",
   "name": "python3"
  },
  "language_info": {
   "codemirror_mode": {
    "name": "ipython",
    "version": 3
   },
   "file_extension": ".py",
   "mimetype": "text/x-python",
   "name": "python",
   "nbconvert_exporter": "python",
   "pygments_lexer": "ipython3",
   "version": "3.7.1"
  }
 },
 "nbformat": 4,
 "nbformat_minor": 2
}
