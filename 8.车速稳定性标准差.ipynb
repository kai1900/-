{
 "cells": [
  {
   "cell_type": "markdown",
   "metadata": {},
   "source": [
    "标准差越小，车速稳定性越好，为了保证交通安全，驾驶的速度应当拥有稳定的车速"
   ]
  },
  {
   "cell_type": "code",
   "execution_count": 2,
   "metadata": {},
   "outputs": [
    {
     "name": "stdout",
     "output_type": "stream",
     "text": [
      "第0个车分析完成\n",
      "第1个车分析完成\n",
      "第2个车分析完成\n",
      "第3个车分析完成\n",
      "第4个车分析完成\n",
      "第5个车分析完成\n",
      "第6个车分析完成\n",
      "第7个车分析完成\n",
      "第8个车分析完成\n",
      "第9个车分析完成\n",
      "finish\n",
      "[[29.138667570591313, 12.487424565332006, 16.41184255759131, 13.675318786756689, 26.655999455668752, 14.774560810011364, 14.653052500531633, 18.539936974361456, 15.27400514145693, 15.379289068043855]]\n",
      "[11.64, 29.182222222222222, 7.932222222222222, 26.40138888888889, 14.561944444444444, 17.519444444444446, 12.686111111111112, 19.230555555555554, 14.105555555555556, 14.624722222222223]\n",
      "finish the while\n",
      "finish the transpose\n",
      "save the excel\n"
     ]
    }
   ],
   "source": [
    "import numpy as np                \n",
    "import pandas as pd\n",
    "import seaborn as sns\n",
    "import folium\n",
    "import webbrowser\n",
    "from folium.plugins import HeatMap\n",
    "import os\n",
    "import time\n",
    "import datetime\n",
    "import matplotlib.pyplot as plt\n",
    "import math\n",
    "import numba as nb\n",
    "\n",
    "def composeTime(time1):\n",
    "    time2 = datetime.datetime.strptime(time1, \"%Y-%m-%d %H:%M:%S\")\n",
    "    time3 = time.mktime(time2.timetuple())\n",
    "    time4 = int(time3)\n",
    "    return time4\n",
    "\n",
    "def hypot(x,y):\n",
    "    return math.sqrt(x**2+y**2)\n",
    "\n",
    "def file_name( user_dir):\n",
    "        file_list = list()\n",
    "        for root, dirs, files in os.walk(user_dir):\n",
    "            for file in files:\n",
    "                # if os.path.splitext(file)[1] == '.txt':\n",
    "                if file.split('.')[-1]=='csv':\n",
    "                    file_list.append(os.path.join(root, file))\n",
    "        return file_list\n",
    "\n",
    "\n",
    "@nb.jit\n",
    "def ji_wending_jit():\n",
    "    for j in range(len(csv)):\n",
    "        data=pd.read_csv(csv[j])\n",
    "        v=[]\n",
    "        count=0\n",
    "        t=0\n",
    "        for i in range(len(data[\"gps_speed\"])-1):\n",
    "            t1 = composeTime(data[\"location_time\"][i])\n",
    "            t2 = composeTime(data[\"location_time\"][i+1])\n",
    "            v1 = data[\"gps_speed\"][i]\n",
    "            \n",
    "            if t2-t1<=100 and v1>0:           #100s时间间隔内的速度\n",
    "                count=count+1\n",
    "                v.append(v1)         \n",
    "                t=t+(t2-t1)\n",
    "        arr_std_v = np.std(v,ddof=1)      \n",
    "        arr_std_v_list.append(arr_std_v)\n",
    "        T.append(t/(60*60))\n",
    "        print(\"第\"+str(j)+\"个车分析完成\")\n",
    "    print(\"finish\")\n",
    "    \n",
    "path=\"car\" \n",
    "csv=file_name(path)\n",
    "\n",
    "T=[]\n",
    "arr_std_v_list=[]\n",
    "ji_wending_jit()\n",
    "\n",
    "Data=[]\n",
    "Data.append(arr_std_v_list)\n",
    "\n",
    "print(Data)\n",
    "\n",
    "print(T)\n",
    "columns=[\"arr_std_v_list\" ]\n",
    "    # list转dataframe\n",
    "x=np.array(Data)\n",
    "print(\"finish the while\")\n",
    "y=np.transpose(x)\n",
    "print(\"finish the transpose\")\n",
    "df = pd.DataFrame(y, columns=columns)\n",
    "\n",
    "    # 保存到本地excel\n",
    "df.to_excel(\"car/tabel/car_chesuwendingxng.xlsx\", index=False)\n",
    "print(\"save the excel\")\n"
   ]
  },
  {
   "cell_type": "code",
   "execution_count": null,
   "metadata": {},
   "outputs": [],
   "source": []
  }
 ],
 "metadata": {
  "kernelspec": {
   "display_name": "Python 3",
   "language": "python",
   "name": "python3"
  },
  "language_info": {
   "codemirror_mode": {
    "name": "ipython",
    "version": 3
   },
   "file_extension": ".py",
   "mimetype": "text/x-python",
   "name": "python",
   "nbconvert_exporter": "python",
   "pygments_lexer": "ipython3",
   "version": "3.7.1"
  }
 },
 "nbformat": 4,
 "nbformat_minor": 2
}
