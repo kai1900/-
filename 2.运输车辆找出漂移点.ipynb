{
 "cells": [
  {
   "cell_type": "code",
   "execution_count": 2,
   "metadata": {},
   "outputs": [
    {
     "name": "stdout",
     "output_type": "stream",
     "text": [
      "['car\\\\AA00002.csv', 'car\\\\AB00006.csv', 'car\\\\AD00003.csv', 'car\\\\AD00013.csv', 'car\\\\AD00053.csv', 'car\\\\AD00083.csv', 'car\\\\AD00419.csv', 'car\\\\AF00098.csv', 'car\\\\AF00131.csv', 'car\\\\AF00373.csv']\n"
     ]
    }
   ],
   "source": [
    "import numpy as np                \n",
    "import pandas as pd\n",
    "import os\n",
    "\n",
    "def file_name( user_dir):\n",
    "        file_list = list()\n",
    "        for root, dirs, files in os.walk(user_dir):\n",
    "            for file in files:\n",
    "                # if os.path.splitext(file)[1] == '.txt':\n",
    "                if file.split('.')[-1]=='csv':\n",
    "                    file_list.append(os.path.join(root, file))\n",
    "        return file_list\n",
    "\n",
    "path=\"car\"     #此处的路径为存放excel的根目录\n",
    "csv=file_name(path)         #得到一个列表，里面为10个excel的存放地址\n",
    "print(csv)"
   ]
  },
  {
   "cell_type": "code",
   "execution_count": 9,
   "metadata": {},
   "outputs": [
    {
     "name": "stdout",
     "output_type": "stream",
     "text": [
      "未去除熄火状态点时\n",
      "car\\AA00002.csv 漂移点个数：  4004\n",
      "car\\AB00006.csv 漂移点个数：  24918\n",
      "car\\AD00003.csv 漂移点个数：  9545\n",
      "car\\AD00013.csv 漂移点个数：  315\n",
      "car\\AD00053.csv 漂移点个数：  6643\n",
      "car\\AD00083.csv 漂移点个数：  137\n",
      "car\\AD00419.csv 漂移点个数：  5725\n",
      "car\\AF00098.csv 漂移点个数：  943\n",
      "car\\AF00131.csv 漂移点个数：  411\n",
      "car\\AF00373.csv 漂移点个数：  152\n"
     ]
    }
   ],
   "source": [
    "import math\n",
    "\n",
    "class cal_distance(object):                          #功能为输入参数为两点的经纬度计算两点的球面距离\n",
    "\n",
    "    def __init__(self,**kwargs):\n",
    "        self.lat1 = kwargs.get('lat1')\n",
    "        self.lon1 = kwargs.get('lon1')\n",
    "        self.lat2 = kwargs.get('lat2')\n",
    "        self.lon2 = kwargs.get('lon2')    \n",
    "    def twopoint_distance(self):                     #距离计算功能函数，输出两点距离，单位为千米(公里)。\n",
    "        R=6371.393                                   #地球半径（假设均匀球体），单位：公里\n",
    "        dlat=self.deg2rad(self.lat2-self.lat1)       #半正失公式\n",
    "        dlon=self.deg2rad(self.lon2-self.lon1)\n",
    "        a=math.sin(dlat/2)**2+math.cos(self.deg2rad(self.lat1))*math.cos(self.deg2rad(self.lat2))*math.sin(dlon/2)**2\n",
    "        c=2*math.atan2(math.sqrt(a),math.sqrt(1-a))\n",
    "        return R*c    \n",
    "    def deg2rad(self,deg):                          #度数转弧度函数\n",
    "        return deg*(math.pi/180)\n",
    "\n",
    "    \n",
    "\n",
    "def run(data):\n",
    "    realDistance=[]                                \n",
    "    for i in range(len(data[\"lat\"])-1):\n",
    "        point1_lat = data[\"lat\"][i]\n",
    "        point2_lat = data[\"lat\"][i+1]\n",
    "        point1_lon = data[\"lng\"][i]\n",
    "        point2_lon = data[\"lng\"][i+1]\n",
    "        Distance = cal_distance(lat1=point1_lat,lon1=point1_lon,lat2=point2_lat,lon2=point2_lon)\n",
    "        distance = Distance.twopoint_distance()\n",
    "        realDistance.append(distance)\n",
    "    return realDistance\n",
    "\n",
    "    \n",
    "def main():\n",
    "    print(\"未去除熄火状态点时\")\n",
    "    for i in range(len(csv)):\n",
    "        data=pd.read_csv(csv[i])\n",
    "        realDistance=[]\n",
    "        realDistance=run(data)\n",
    "        maxDistance=0.033                            #正常速度内，以单位时间（1s）计算的最大行驶距离\n",
    "        t1=[]                                        #未考虑GPS记录时两个记录条之间时间间隔非1s的情况\n",
    "        for j in range(len(realDistance)):           \n",
    "            if realDistance[j]>maxDistance:\n",
    "                t1.append(1)\n",
    "            else:\n",
    "                t1.append(0)\n",
    "    #    print(\"realDistance:\",\"\\n\",realDistance)\n",
    "    #    print(\"t1:\",\"\\n\",t1)\n",
    "        count=0\n",
    "        for k in range(len(t1)):\n",
    "            if t1[k]==1:\n",
    "                count+=1\n",
    "        print(csv[i],\"漂移点个数： \",count)\n",
    "    \n",
    "main()"
   ]
  },
  {
   "cell_type": "code",
   "execution_count": 8,
   "metadata": {},
   "outputs": [
    {
     "name": "stdout",
     "output_type": "stream",
     "text": [
      "去除熄火状态点时\n",
      "car\\AA00002.csv 漂移点个数：  4004\n",
      "car\\AB00006.csv 漂移点个数：  24918\n",
      "car\\AD00003.csv 漂移点个数：  9545\n",
      "car\\AD00013.csv 漂移点个数：  315\n",
      "car\\AD00053.csv 漂移点个数：  6643\n",
      "car\\AD00083.csv 漂移点个数：  137\n",
      "car\\AD00419.csv 漂移点个数：  5725\n",
      "car\\AF00098.csv 漂移点个数：  943\n",
      "car\\AF00131.csv 漂移点个数：  411\n",
      "car\\AF00373.csv 漂移点个数：  152\n"
     ]
    }
   ],
   "source": [
    "print(\"去除熄火状态点时\")\n",
    "for i in range(len(csv)):\n",
    "    data2=pd.read_csv(csv[i])\n",
    "    for n in range(len(data2[\"acc_state\"])):\n",
    "        if data2[\"acc_state\"][n]==0:\n",
    "            data2.drop([n])\n",
    "    realDistance2=[]\n",
    "    realDistance2=run(data2)\n",
    "    maxDistance=0.033                            \n",
    "    t2=[]                                        \n",
    "    for j in range(len(realDistance2)):           \n",
    "        if realDistance2[j]>maxDistance:\n",
    "            t2.append(1)\n",
    "        else:\n",
    "            t2.append(0)\n",
    "    count2=0\n",
    "    for k in range(len(t2)):\n",
    "        if t2[k]==1:\n",
    "            count2+=1\n",
    "    print(csv[i],\"漂移点个数： \",count2)"
   ]
  },
  {
   "cell_type": "code",
   "execution_count": null,
   "metadata": {},
   "outputs": [],
   "source": []
  }
 ],
 "metadata": {
  "kernelspec": {
   "display_name": "Python 3",
   "language": "python",
   "name": "python3"
  },
  "language_info": {
   "codemirror_mode": {
    "name": "ipython",
    "version": 3
   },
   "file_extension": ".py",
   "mimetype": "text/x-python",
   "name": "python",
   "nbconvert_exporter": "python",
   "pygments_lexer": "ipython3",
   "version": "3.7.1"
  }
 },
 "nbformat": 4,
 "nbformat_minor": 2
}
